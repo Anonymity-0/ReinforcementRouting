{
 "cells": [
  {
   "cell_type": "markdown",
   "metadata": {},
   "source": [
    "# 导入必要的库\n",
    "import torch\n",
    "from env import SatelliteEnv\n",
    "from agents.qmix_agent import QMIXAgent\n",
    "from agents.mappo_agent import MAPPOAgent\n",
    "from agents.tarmac_agent import TarMACAgent"
   ]
  },
  {
   "cell_type": "code",
   "execution_count": null,
   "metadata": {},
   "outputs": [],
   "source": [
    "import torch\n",
    "from env import SatelliteEnv\n",
    "from agents.qmix_agent import QMIXAgent\n",
    "from agents.mappo_agent import MAPPOAgent\n",
    "from agents.tarmac_agent import TarMACAgent"
   ]
  },
  {
   "cell_type": "markdown",
   "metadata": {},
   "source": [
    "# 初始化环境和智能体\n",
    "env = SatelliteEnv(service_type='delay_sensitive')\n",
    "n_agents = env.n_meo\n",
    "obs_sizes = [len(obs) for obs in env.get_observation()]\n",
    "action_dim = env.k_paths\n",
    "hidden_dim = 64\n",
    "learning_rate = 0.001\n",
    "device = torch.device('cuda' if torch.cuda.is_available() else 'cpu')"
   ]
  },
  {
   "cell_type": "code",
   "execution_count": null,
   "metadata": {},
   "outputs": [],
   "source": [
    "# 初始化环境和智能体\n",
    "\n",
    "# 初始化环境\n",
    "env = SatelliteEnv(service_type='delay_sensitive')\n",
    "\n",
    "# 获取智能体数量\n",
    "n_agents = env.n_meo\n",
    "\n",
    "# 获取每个智能体的观察空间大小\n",
    "obs_sizes = [len(obs) for obs in env.get_observation()]\n",
    "\n",
    "# 获取动作空间的维度\n",
    "action_dim = env.k_paths\n",
    "\n",
    "# 设置隐藏层维度\n",
    "hidden_dim = 64\n",
    "\n",
    "# 设置学习率\n",
    "learning_rate = 0.001\n",
    "\n",
    "# 设置设备\n",
    "device = torch.device('cuda' if torch.cuda.is_available() else 'cpu')"
   ]
  },
  {
   "cell_type": "markdown",
   "metadata": {},
   "source": [
    "# 测试QMIX智能体\n",
    "qmix_agent = QMIXAgent(n_agents=n_agents, obs_sizes=obs_sizes, action_dim=action_dim, hidden_dim=hidden_dim, learning_rate=learning_rate, device=device)\n",
    "observations = env.reset()\n",
    "actions = qmix_agent.select_action(observations)\n",
    "print('QMIX Actions:', actions)"
   ]
  },
  {
   "cell_type": "code",
   "execution_count": null,
   "metadata": {},
   "outputs": [],
   "source": [
    "# 测试QMIX智能体\n",
    "\n",
    "# 初始化QMIX智能体\n",
    "qmix_agent = QMIXAgent(n_agents=n_agents, obs_sizes=obs_sizes, action_dim=action_dim, hidden_dim=hidden_dim, learning_rate=learning_rate, device=device)\n",
    "\n",
    "# 重置环境，获取初始观察\n",
    "observations = env.reset()\n",
    "\n",
    "# 使用QMIX智能体选择动作\n",
    "actions = qmix_agent.select_action(observations)\n",
    "\n",
    "# 打印QMIX智能体选择的动作\n",
    "print('QMIX Actions:', actions)"
   ]
  },
  {
   "cell_type": "markdown",
   "metadata": {},
   "source": [
    "# 测试MAPPO智能体\n",
    "mappo_agent = MAPPOAgent(n_agents=n_agents, obs_sizes=obs_sizes, action_dim=action_dim, hidden_dim=hidden_dim, learning_rate=learning_rate, device=device)\n",
    "observations = env.reset()\n",
    "actions = mappo_agent.select_action(observations)\n",
    "print('MAPPO Actions:', actions)"
   ]
  },
  {
   "cell_type": "code",
   "execution_count": null,
   "metadata": {},
   "outputs": [],
   "source": [
    "# 测试MAPPO智能体\n",
    "\n",
    "# 初始化MAPPO智能体\n",
    "mappo_agent = MAPPOAgent(n_agents=n_agents, obs_sizes=obs_sizes, action_dim=action_dim, hidden_dim=hidden_dim, learning_rate=learning_rate, device=device)\n",
    "\n",
    "# 重置环境，获取初始观察\n",
    "observations = env.reset()\n",
    "\n",
    "# 使用MAPPO智能体选择动作\n",
    "actions = mappo_agent.select_action(observations)\n",
    "\n",
    "# 打印MAPPO智能体选择的动作\n",
    "print('MAPPO Actions:', actions)"
   ]
  },
  {
   "cell_type": "markdown",
   "metadata": {},
   "source": [
    "# 测试TarMAC智能体\n",
    "comm_dim = 16\n",
    "num_heads = 2\n",
    "tarmac_agent = TarMACAgent(n_agents=n_agents, obs_sizes=obs_sizes, action_dim=action_dim, hidden_dim=hidden_dim, comm_dim=comm_dim, num_heads=num_heads, learning_rate=learning_rate, device=device)\n",
    "observations = env.reset()\n",
    "actions = tarmac_agent.select_action(observations)\n",
    "print('TarMAC Actions:', actions)"
   ]
  },
  {
   "cell_type": "code",
   "execution_count": null,
   "metadata": {},
   "outputs": [],
   "source": [
    "# 测试TarMAC智能体\n",
    "\n",
    "# 设置通信维度和头数\n",
    "comm_dim = 16\n",
    "num_heads = 2\n",
    "\n",
    "# 初始化TarMAC智能体\n",
    "tarmac_agent = TarMACAgent(n_agents=n_agents, obs_sizes=obs_sizes, action_dim=action_dim, hidden_dim=hidden_dim, comm_dim=comm_dim, num_heads=num_heads, learning_rate=learning_rate, device=device)\n",
    "\n",
    "# 重置环境，获取初始观察\n",
    "observations = env.reset()\n",
    "\n",
    "# 使用TarMAC智能体选择动作\n",
    "actions = tarmac_agent.select_action(observations)\n",
    "\n",
    "# 打印TarMAC智能体选择的动作\n",
    "print('TarMAC Actions:', actions)"
   ]
  },
  {
   "cell_type": "markdown",
   "metadata": {},
   "source": [
    "# 训练智能体\n",
    "from train import train\n",
    "agent = train('qmix')\n",
    "agent = train('mappo')\n",
    "agent = train('tarmac')"
   ]
  },
  {
   "cell_type": "code",
   "execution_count": null,
   "metadata": {},
   "outputs": [],
   "source": [
    "from train import train\n",
    "\n",
    "# 训练QMIX智能体\n",
    "qmix_agent = train('qmix')\n",
    "\n",
    "# 训练MAPPO智能体\n",
    "mappo_agent = train('mappo')\n",
    "\n",
    "# 训练TarMAC智能体\n",
    "tarmac_agent = train('tarmac')"
   ]
  },
  {
   "cell_type": "markdown",
   "metadata": {},
   "source": [
    "# 推理测试\n",
    "from inference import inference\n",
    "agent, qos_metrics = inference('qmix', 'qmix_model_final.pth')\n",
    "agent, qos_metrics = inference('mappo', 'mappo_model_final.pth')\n",
    "agent, qos_metrics = inference('tarmac', 'tarmac_model_final.pth')"
   ]
  },
  {
   "cell_type": "code",
   "execution_count": null,
   "metadata": {},
   "outputs": [],
   "source": [
    "# 推理测试\n",
    "\n",
    "from inference import inference\n",
    "\n",
    "# QMIX智能体推理测试\n",
    "agent, qos_metrics = inference('qmix', 'qmix_model_final.pth')\n",
    "print('QMIX Inference Results:', qos_metrics)\n",
    "\n",
    "# MAPPO智能体推理测试\n",
    "agent, qos_metrics = inference('mappo', 'mappo_model_final.pth')\n",
    "print('MAPPO Inference Results:', qos_metrics)\n",
    "\n",
    "# TarMAC智能体推理测试\n",
    "agent, qos_metrics = inference('tarmac', 'tarmac_model_final.pth')\n",
    "print('TarMAC Inference Results:', qos_metrics)"
   ]
  }
 ],
 "metadata": {
  "language_info": {
   "name": "python"
  }
 },
 "nbformat": 4,
 "nbformat_minor": 2
}
