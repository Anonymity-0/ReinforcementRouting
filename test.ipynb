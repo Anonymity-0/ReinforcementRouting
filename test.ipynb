{
 "cells": [
  {
   "cell_type": "markdown",
   "metadata": {},
   "source": [
    "# 导入必要的库\n",
    "import torch\n",
    "from env import SatelliteEnv\n",
    "from agents.qmix_agent import QMIXAgent\n",
    "from agents.mappo_agent import MAPPOAgent\n",
    "from agents.tarmac_agent import TarMACAgent\n",
    "import pandas as pd\n",
    "import matplotlib.pyplot as plt"
   ]
  },
  {
   "cell_type": "code",
   "execution_count": null,
   "metadata": {},
   "outputs": [],
   "source": [
    "# 导入必要的库\n",
    "import torch\n",
    "from env import SatelliteEnv\n",
    "from agents.qmix_agent import QMIXAgent\n",
    "from agents.mappo_agent import MAPPOAgent\n",
    "from agents.tarmac_agent import TarMACAgent\n",
    "import pandas as pd\n",
    "import matplotlib.pyplot as plt"
   ]
  },
  {
   "cell_type": "markdown",
   "metadata": {},
   "source": [
    "# 初始化环境和智能体\n",
    "env = SatelliteEnv(service_type='delay_sensitive')\n",
    "n_agents = env.n_meo\n",
    "obs_sizes = [len(obs) for obs in env.get_observation()]\n",
    "action_dim = env.k_paths\n",
    "hidden_dim = 64\n",
    "learning_rate = 0.001\n",
    "device = torch.device('cuda' if torch.cuda.is_available() else 'cpu')"
   ]
  },
  {
   "cell_type": "code",
   "execution_count": null,
   "metadata": {},
   "outputs": [],
   "source": [
    "# 初始化环境和智能体\n",
    "\n",
    "# 初始化环境\n",
    "env = SatelliteEnv(service_type='delay_sensitive')\n",
    "\n",
    "# 获取智能体数量和观察空间大小\n",
    "n_agents = env.n_meo\n",
    "obs_sizes = [len(obs) for obs in env.get_observation()]\n",
    "\n",
    "# 获取动作空间的维度\n",
    "action_dim = env.k_paths\n",
    "\n",
    "# 设置隐藏层维度\n",
    "hidden_dim = 64\n",
    "\n",
    "# 设置学习率\n",
    "learning_rate = 0.001\n",
    "\n",
    "# 设置设备\n",
    "device = torch.device('cuda' if torch.cuda.is_available() else 'cpu')\n",
    "\n",
    "# 初始化MAPPO智能体\n",
    "mappo_agent = MAPPOAgent(n_agents=n_agents, obs_sizes=obs_sizes, action_dim=action_dim, hidden_dim=hidden_dim, learning_rate=learning_rate, device=device)\n",
    "\n",
    "# 重置环境，获取初始观察\n",
    "observations = env.reset()\n",
    "\n",
    "# 使用MAPPO智能体选择动作\n",
    "actions = mappo_agent.select_action(observations)\n",
    "\n",
    "# 打印MAPPO智能体选择的动作\n",
    "print('MAPPO Actions:', actions)"
   ]
  },
  {
   "cell_type": "markdown",
   "metadata": {},
   "source": [
    "# 训练智能体\n",
    "from train import train\n",
    "qmix_agent = train('qmix')\n",
    "mappo_agent = train('mappo')\n",
    "tarmac_agent = train('tarmac')"
   ]
  },
  {
   "cell_type": "code",
   "execution_count": null,
   "metadata": {},
   "outputs": [],
   "source": [
    "# 训练智能体\n",
    "from train import train\n",
    "\n",
    "# 训练QMIX智能体\n",
    "qmix_agent = train('qmix')\n",
    "\n",
    "# 训练MAPPO智能体\n",
    "mappo_agent = train('mappo')\n",
    "\n",
    "# 训练TarMAC智能体\n",
    "tarmac_agent = train('tarmac')"
   ]
  },
  {
   "cell_type": "markdown",
   "metadata": {},
   "source": [
    "# 推理测试\n",
    "from inference import inference\n",
    "agent, qos_metrics = inference('qmix', 'qmix_model_final.pth')\n",
    "agent, qos_metrics = inference('mappo', 'mappo_model_final.pth')\n",
    "agent, qos_metrics = inference('tarmac', 'tarmac_model_final.pth')\n",
    "dijkstra_qos_metrics = inference_traditional(routing_algorithm='dijkstra')\n",
    "dqn_qos_metrics = inference_dqn('dqn_model.pth')"
   ]
  },
  {
   "cell_type": "code",
   "execution_count": null,
   "metadata": {},
   "outputs": [],
   "source": [
    "# 推理测试\n",
    "\n",
    "from inference import inference\n",
    "\n",
    "# QMIX智能体推理测试\n",
    "agent, qos_metrics = inference('qmix', 'qmix_model_final.pth')\n",
    "print('QMIX Inference Results:', qos_metrics)\n",
    "\n",
    "# MAPPO智能体推理测试\n",
    "agent, qos_metrics = inference('mappo', 'mappo_model_final.pth')\n",
    "print('MAPPO Inference Results:', qos_metrics)\n",
    "\n",
    "# TarMAC智能体推理测试\n",
    "agent, qos_metrics = inference('tarmac', 'tarmac_model_final.pth')\n",
    "print('TarMAC Inference Results:', qos_metrics)\n",
    "\n",
    "# Dijkstra算法推理测试\n",
    "dijkstra_qos_metrics = inference_traditional(routing_algorithm='dijkstra')\n",
    "print('Dijkstra Inference Results:', dijkstra_qos_metrics)\n",
    "\n",
    "# DQN算法推理测试\n",
    "dqn_qos_metrics = inference_dqn('dqn_model.pth')\n",
    "print('DQN Inference Results:', dqn_qos_metrics)\n",
    "\n",
    "# 将结果转换为 DataFrame\n",
    "rl_df = pd.DataFrame(qos_metrics)\n",
    "dijkstra_df = pd.DataFrame(dijkstra_qos_metrics)\n",
    "dqn_df = pd.DataFrame(dqn_qos_metrics)\n",
    "\n",
    "# 绘制对比图\n",
    "plt.figure(figsize=(12, 6))\n",
    "plt.plot(rl_df['delay'], label='强化学习算法')\n",
    "plt.plot(dqn_df['delay'], label='DQN 算法')\n",
    "plt.plot(dijkstra_df['delay'], label='Dijkstra 算法')\n",
    "plt.xlabel('步骤')\n",
    "plt.ylabel('时延 (秒)')\n",
    "plt.title('时延对比')\n",
    "plt.legend()\n",
    "plt.show()\n",
    "\n",
    "# 输出平均 QoS 指标\n",
    "print(\"强化学习算法平均时延:\", rl_df['delay'].mean())\n",
    "print(\"DQN 算法平均时延:\", dqn_df['delay'].mean())\n",
    "print(\"Dijkstra 算法平均时延:\", dijkstra_df['delay'].mean())"
   ]
  },
  {
   "cell_type": "markdown",
   "metadata": {},
   "source": [
    "# 数据分析\n",
    "rl_df = pd.DataFrame(rl_qos_metrics)\n",
    "dijkstra_df = pd.DataFrame(dijkstra_qos_metrics)\n",
    "dqn_df = pd.DataFrame(dqn_qos_metrics)\n",
    "plt.figure(figsize=(12, 6))\n",
    "plt.plot(rl_df['delay'], label='强化学习算法')\n",
    "plt.plot(dqn_df['delay'], label='DQN 算法')\n",
    "plt.plot(dijkstra_df['delay'], label='Dijkstra 算法')\n",
    "plt.xlabel('步骤')\n",
    "plt.ylabel('时延 (秒)')\n",
    "plt.title('时延对比')\n",
    "plt.legend()\n",
    "plt.show()\n",
    "print(\"强化学习算法平均时延:\", rl_df['delay'].mean())\n",
    "print(\"DQN 算法平均时延:\", dqn_df['delay'].mean())\n",
    "print(\"Dijkstra 算法平均时延:\", dijkstra_df['delay'].mean())"
   ]
  },
  {
   "cell_type": "code",
   "execution_count": null,
   "metadata": {},
   "outputs": [],
   "source": [
    "# 将结果转换为 DataFrame\n",
    "rl_df = pd.DataFrame(rl_qos_metrics)\n",
    "dijkstra_df = pd.DataFrame(dijkstra_qos_metrics)\n",
    "dqn_df = pd.DataFrame(dqn_qos_metrics)\n",
    "\n",
    "# 绘制对比图\n",
    "plt.figure(figsize=(12, 6))\n",
    "plt.plot(rl_df['delay'], label='强化学习算法')\n",
    "plt.plot(dqn_df['delay'], label='DQN 算法')\n",
    "plt.plot(dijkstra_df['delay'], label='Dijkstra 算法')\n",
    "plt.xlabel('步骤')\n",
    "plt.ylabel('时延 (秒)')\n",
    "plt.title('时延对比')\n",
    "plt.legend()\n",
    "plt.show()\n",
    "\n",
    "# 输出平均 QoS 指标\n",
    "print(\"强化学习算法平均时延:\", rl_df['delay'].mean())\n",
    "print(\"DQN 算法平均时延:\", dqn_df['delay'].mean())\n",
    "print(\"Dijkstra 算法平均时延:\", dijkstra_df['delay'].mean())"
   ]
  }
 ],
 "metadata": {
  "language_info": {
   "name": "python"
  }
 },
 "nbformat": 4,
 "nbformat_minor": 2
}
